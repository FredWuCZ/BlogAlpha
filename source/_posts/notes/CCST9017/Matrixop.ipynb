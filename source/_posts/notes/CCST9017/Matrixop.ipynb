{
 "cells": [
  {
   "cell_type": "code",
   "execution_count": 8,
   "metadata": {},
   "outputs": [],
   "source": [
    "import numpy as np"
   ]
  },
  {
   "cell_type": "code",
   "execution_count": 9,
   "metadata": {},
   "outputs": [],
   "source": [
    "n = 6\n",
    "b = np.array([\n",
    "    [0, 0, 0., 1., 0., 0],\n",
    "    [1., 0, 1., 0, 0, 0.],\n",
    "    [1., 0, 0, 0., 0., 1.],\n",
    "    [0., 1, 0, 0, 0., 1.],\n",
    "    [1, 0, 1, 1., 0, 0.],\n",
    "    [0, 0, 0, 1., 1., 0]\n",
    "])"
   ]
  },
  {
   "cell_type": "code",
   "execution_count": 10,
   "metadata": {},
   "outputs": [],
   "source": [
    "for i in range(n):\n",
    "    b[:,i] = b[:, i] / np.sum(b[:, i])"
   ]
  },
  {
   "cell_type": "code",
   "execution_count": 11,
   "metadata": {},
   "outputs": [],
   "source": [
    "x = np.ones((n, 1))"
   ]
  },
  {
   "cell_type": "code",
   "execution_count": 12,
   "metadata": {},
   "outputs": [],
   "source": [
    "x_new = np.dot(b, x)\n",
    "iters = 1\n",
    "while np.any(x_new - x > 0.001):\n",
    "    x = x_new\n",
    "    x_new = np.dot(b, x)\n",
    "    iters += 1\n",
    "x = x_new"
   ]
  },
  {
   "cell_type": "code",
   "execution_count": 13,
   "metadata": {},
   "outputs": [
    {
     "data": {
      "text/plain": [
       "array([[0.46145776],\n",
       "       [0.61522566],\n",
       "       [0.92334485],\n",
       "       [1.38490653],\n",
       "       [1.07668342],\n",
       "       [1.53838179]])"
      ]
     },
     "execution_count": 13,
     "metadata": {},
     "output_type": "execute_result"
    }
   ],
   "source": [
    "x"
   ]
  },
  {
   "cell_type": "code",
   "execution_count": 14,
   "metadata": {},
   "outputs": [
    {
     "data": {
      "text/plain": [
       "array([[0.46163551],\n",
       "       [0.61549168],\n",
       "       [0.92301015],\n",
       "       [1.38441655],\n",
       "       [1.07712719],\n",
       "       [1.53831893]])"
      ]
     },
     "execution_count": 14,
     "metadata": {},
     "output_type": "execute_result"
    }
   ],
   "source": [
    "np.dot(b, x)"
   ]
  }
 ],
 "metadata": {
  "kernelspec": {
   "display_name": "Python 3.10.6 64-bit",
   "language": "python",
   "name": "python3"
  },
  "language_info": {
   "codemirror_mode": {
    "name": "ipython",
    "version": 3
   },
   "file_extension": ".py",
   "mimetype": "text/x-python",
   "name": "python",
   "nbconvert_exporter": "python",
   "pygments_lexer": "ipython3",
   "version": "3.10.6"
  },
  "orig_nbformat": 4,
  "vscode": {
   "interpreter": {
    "hash": "e7370f93d1d0cde622a1f8e1c04877d8463912d04d973331ad4851f04de6915a"
   }
  }
 },
 "nbformat": 4,
 "nbformat_minor": 2
}

{
 "cells": [
  {
   "cell_type": "code",
   "execution_count": 85,
   "metadata": {},
   "outputs": [],
   "source": [
    "import numpy as np\n",
    "import random\n",
    "import matplotlib.pyplot as plt\n",
    "\n",
    "def sqdistance(x, y):\n",
    "    return (x[0] - y[0]) ** 2 + (x[1] - y[1]) ** 2\n",
    "\n",
    "a = np.array([[2, 8], [2, 5], [1, 2], [5, 8], [7, 3], [6, 4], [8, 4], [4, 7]])\n",
    "clusters = 3\n",
    "n = len(a)\n",
    "\n",
    "c = np.zeros(n)\n",
    "p = np.zeros((clusters, 2))"
   ]
  },
  {
   "cell_type": "code",
   "execution_count": 86,
   "metadata": {},
   "outputs": [
    {
     "name": "stdout",
     "output_type": "stream",
     "text": [
      "Starting c = [2. 2. 1. 2. 2. 2. 2. 0.] p =\n",
      " [[4.         7.        ]\n",
      " [1.         2.        ]\n",
      " [5.         5.33333333]]\n"
     ]
    }
   ],
   "source": [
    "for i in range(n):\n",
    "    c[i] = random.randint(0, clusters - 1)\n",
    "\n",
    "for i in range(clusters):\n",
    "    p[i] = np.average(a[c == i], axis=0)\n",
    "\n",
    "print('Starting c =', c, 'p =\\n', p)"
   ]
  },
  {
   "cell_type": "code",
   "execution_count": 87,
   "metadata": {},
   "outputs": [
    {
     "name": "stdout",
     "output_type": "stream",
     "text": [
      "After iteration 1, cost = 1.9270833333333333 c = [0. 0. 1. 0. 2. 2. 2. 0.], p =\n",
      "[[3.25       7.        ]\n",
      " [1.         2.        ]\n",
      " [7.         3.66666667]]\n",
      "After iteration 2, cost = 1.9270833333333333 c = [0. 0. 1. 0. 2. 2. 2. 0.], p =\n",
      "[[3.25       7.        ]\n",
      " [1.         2.        ]\n",
      " [7.         3.66666667]]\n",
      "After iteration 3, cost = 1.9270833333333333 c = [0. 0. 1. 0. 2. 2. 2. 0.], p =\n",
      "[[3.25       7.        ]\n",
      " [1.         2.        ]\n",
      " [7.         3.66666667]]\n",
      "After iteration 4, cost = 1.9270833333333333 c = [0. 0. 1. 0. 2. 2. 2. 0.], p =\n",
      "[[3.25       7.        ]\n",
      " [1.         2.        ]\n",
      " [7.         3.66666667]]\n",
      "After iteration 5, cost = 1.9270833333333333 c = [0. 0. 1. 0. 2. 2. 2. 0.], p =\n",
      "[[3.25       7.        ]\n",
      " [1.         2.        ]\n",
      " [7.         3.66666667]]\n"
     ]
    }
   ],
   "source": [
    "maxiters = 5\n",
    "for k in range(maxiters):\n",
    "    for i in range(n):\n",
    "        center = 0\n",
    "        for j in range(clusters):\n",
    "            if sqdistance(p[j], a[i]) < sqdistance(p[center], a[i]):\n",
    "                center = j\n",
    "        c[i] = center\n",
    "    for i in range(clusters):\n",
    "        p[i] = np.average(a[c == i], axis=0)\n",
    "    cost = 0\n",
    "    for i in range(n):\n",
    "        cost += sqdistance(a[i], p[round(c[i])])\n",
    "    cost /= n\n",
    "    print('After iteration ', k + 1, ', cost = ', cost, ' c = ', c, ', p =\\n', p, sep = '')"
   ]
  },
  {
   "cell_type": "code",
   "execution_count": 88,
   "metadata": {},
   "outputs": [
    {
     "name": "stdout",
     "output_type": "stream",
     "text": [
      "Result: p =\n",
      "[[3.25       7.        ]\n",
      " [1.         2.        ]\n",
      " [7.         3.66666667]]\n"
     ]
    }
   ],
   "source": [
    "print('Result: p =\\n', p, sep = '')"
   ]
  },
  {
   "cell_type": "code",
   "execution_count": 89,
   "metadata": {},
   "outputs": [
    {
     "data": {
      "image/png": "[encoded data removed]",
      "text/plain": [
       "<Figure size 500x500 with 1 Axes>"
      ]
     },
     "metadata": {},
     "output_type": "display_data"
    }
   ],
   "source": [
    "colors = ['red', 'green', 'blue']\n",
    "\n",
    "fig, ax = plt.subplots(figsize=(5, 5))\n",
    "for i in range(3):\n",
    "    plt.scatter(a[c == i, 0], a[c == i, 1], marker='o', c=colors[i])\n",
    "    plt.scatter(p[i][0], p[i][1], marker='x', c=colors[i])\n",
    "plt.title('K-means Clustering')\n",
    "plt.xlabel('$x_1$')\n",
    "plt.ylabel('$x_2$')\n",
    "plt.show()"
   ]
  }
 ],
 "metadata": {
  "kernelspec": {
   "display_name": "Python 3.10.6 64-bit",
   "language": "python",
   "name": "python3"
  },
  "language_info": {
   "codemirror_mode": {
    "name": "ipython",
    "version": 3
   },
   "file_extension": ".py",
   "mimetype": "text/x-python",
   "name": "python",
   "nbconvert_exporter": "python",
   "pygments_lexer": "ipython3",
   "version": "3.10.7"
  },
  "orig_nbformat": 4,
  "vscode": {
   "interpreter": {
    "hash": "e7370f93d1d0cde622a1f8e1c04877d8463912d04d973331ad4851f04de6915a"
   }
  }
 },
 "nbformat": 4,
 "nbformat_minor": 2
}
